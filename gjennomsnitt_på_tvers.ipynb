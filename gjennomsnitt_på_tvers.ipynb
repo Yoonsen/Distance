{
 "cells": [
  {
   "cell_type": "markdown",
   "id": "76bb3f22-e48c-4713-ad16-2e6776543a63",
   "metadata": {},
   "source": [
    "## Combine means across observations"
   ]
  },
  {
   "cell_type": "markdown",
   "id": "04812fab-37ab-4161-a745-3fef1cb91ef8",
   "metadata": {},
   "source": [
    "Formula for calculating the combined meand as sd for a set of observations, where ${S_c}^2$ is the variation, grabbed from [here](https://www.emathzone.com/tutorials/basic-statistics/combined-variance.html).\n",
    "\n",
    "${S_c}^2 = \\frac{{{n_1}{S_1}^2 + {n_2}{S_2}^2 + {n_1}{{\\left( {{{\\overline X }_1} – {{\\overline X }_c}} \\right)}^2} + {n_2}{{\\left( {{{\\overline X }_2} – {{\\overline X }_c}} \\right)}^2}}}{{{n_1} + {n_2}}}$\n",
    "\n",
    "\n",
    "${S_c}^2 = \\frac{{{n_1}\\left[ {{S_1}^2 + {{\\left( {{{\\overline X }_1} – {{\\overline X }_c}} \\right)}^2}} \\right] + {n_2}\\left[ {{S_2}^2 + {{\\left( {{{\\overline X }_2} – {{\\overline X }_c}} \\right)}^2}} \\right]}}{{{n_1} + {n_2}}}$\n",
    "\n",
    "\n",
    "${X_c} = \\frac{{{n_1}{{\\overline X }_1} + {n_2}{{\\overline X }_2}}}{{{n_1} + {n_2}}}$\n",
    "\n",
    "\n"
   ]
  },
  {
   "cell_type": "markdown",
   "id": "15f752ad-70f0-4c26-a9ad-3ded75291d25",
   "metadata": {},
   "source": [
    "\n",
    "\n",
    "\n",
    "${X_c} = \\frac{\\sum_i{{n_i}{{\\overline X }_i} }}{\\sum_i{{n_i}}}$\n",
    "\n",
    "\n",
    "${S_c} = \\sqrt{\\frac{\\sum_i{{n_i}\\left[ {{S_i}^2 + {{\\left( {{{\\overline X }_i} – {\\frac{\\sum_i{{n_i}{{\\overline X }_i} }}{\\sum_i{{n_i}}}}} \\right)}^2}} \\right] }}{\\sum_i{{n_i}}}}$\n",
    "\n",
    "\n",
    "\n",
    "${S_c}^2 = {\\frac{\\sum_i{{n_i}\\left[ {{S_i}^2 + {{\\left( {{{\\overline X }_i} – {\\frac{\\sum_i{{n_i}{{\\overline X }_i} }}{\\sum_i{{n_i}}}}} \\right)}^2}} \\right] }}{\\sum_i{{n_i}}}}$\n"
   ]
  }
 ],
 "metadata": {
  "kernelspec": {
   "display_name": "Python 3 (ipykernel)",
   "language": "python",
   "name": "python3"
  },
  "language_info": {
   "codemirror_mode": {
    "name": "ipython",
    "version": 3
   },
   "file_extension": ".py",
   "mimetype": "text/x-python",
   "name": "python",
   "nbconvert_exporter": "python",
   "pygments_lexer": "ipython3",
   "version": "3.9.13"
  }
 },
 "nbformat": 4,
 "nbformat_minor": 5
}
