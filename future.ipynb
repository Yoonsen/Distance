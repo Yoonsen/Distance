{
 "cells": [
  {
   "cell_type": "code",
   "execution_count": 6,
   "id": "30f9a31a-a36c-4876-bbcb-5f88b7bfbe73",
   "metadata": {},
   "outputs": [],
   "source": [
    "import dhlab as dh\n",
    "import dhlab.future.corpus_conc_coll as df"
   ]
  },
  {
   "cell_type": "code",
   "execution_count": 9,
   "id": "da12a1b8-08d7-45d2-9fbb-e7a452b22dec",
   "metadata": {},
   "outputs": [],
   "source": [
    "a = df.Corpus().build(doctype='digibok')"
   ]
  },
  {
   "cell_type": "code",
   "execution_count": 13,
   "id": "ecc8780b-3019-48c0-bab4-807e4e85273f",
   "metadata": {},
   "outputs": [],
   "source": [
    "f = a.get_freqs()"
   ]
  },
  {
   "cell_type": "code",
   "execution_count": 15,
   "id": "b4c144fe-8215-41f0-bdc9-2e4f7d87647a",
   "metadata": {},
   "outputs": [
    {
     "data": {
      "text/plain": [
       ".              5855.0\n",
       ",              2623.0\n",
       "og             1941.0\n",
       "hadde          1337.0\n",
       "var            1249.0\n",
       "                ...  \n",
       "significant       0.0\n",
       "parameter         0.0\n",
       "from              0.0\n",
       "that              0.0\n",
       "wave              0.0\n",
       "Name: 100522535, Length: 59463, dtype: float64"
      ]
     },
     "execution_count": 15,
     "metadata": {},
     "output_type": "execute_result"
    }
   ],
   "source": [
    "f[100522535]"
   ]
  }
 ],
 "metadata": {
  "kernelspec": {
   "display_name": "Python 3 (ipykernel)",
   "language": "python",
   "name": "python3"
  },
  "language_info": {
   "codemirror_mode": {
    "name": "ipython",
    "version": 3
   },
   "file_extension": ".py",
   "mimetype": "text/x-python",
   "name": "python",
   "nbconvert_exporter": "python",
   "pygments_lexer": "ipython3",
   "version": "3.9.13"
  }
 },
 "nbformat": 4,
 "nbformat_minor": 5
}
