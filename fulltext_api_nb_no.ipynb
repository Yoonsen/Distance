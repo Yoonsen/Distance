{
 "cells": [
  {
   "cell_type": "code",
   "execution_count": 19,
   "id": "16a36d06-4be0-480c-b04a-486f920935f1",
   "metadata": {},
   "outputs": [],
   "source": [
    "import requests\n",
    "\n",
    "def get_text(item_id):\n",
    "\n",
    "    text_url = f\"https://api.nb.no/catalog/v1/{item_id}/fulltext\"\n",
    "    text_response = requests.get(text_url)\n",
    "\n",
    "    if text_response.status_code == 200:\n",
    "        text_data = text_response.json()\n",
    "        text = text_data[\"content\"]\n",
    "        #print(text)\n",
    "    else:\n",
    "        text = '-none-'\n",
    "    return text"
   ]
  },
  {
   "cell_type": "code",
   "execution_count": 20,
   "id": "ef4c4aab-f8d4-4d79-81ac-d89c1280df5b",
   "metadata": {},
   "outputs": [],
   "source": [
    "import dhlab as dh"
   ]
  },
  {
   "cell_type": "code",
   "execution_count": 27,
   "id": "0495a591-b501-4e11-bc52-1d6c00c6b9d7",
   "metadata": {},
   "outputs": [],
   "source": [
    "a = dh.Corpus(doctype='digibok', to_year = 1800)"
   ]
  },
  {
   "cell_type": "code",
   "execution_count": 28,
   "id": "6c8fda67-9eb3-40eb-a445-d75c63855de5",
   "metadata": {},
   "outputs": [
    {
     "data": {
      "text/plain": [
       "'URN:NBN:no-nb_digibok_2014013128006'"
      ]
     },
     "execution_count": 28,
     "metadata": {},
     "output_type": "execute_result"
    }
   ],
   "source": [
    "a.frame.urn[1]"
   ]
  },
  {
   "cell_type": "code",
   "execution_count": 29,
   "id": "a9a6ac0f-0be3-4fc5-b77b-ca4d0c315442",
   "metadata": {},
   "outputs": [
    {
     "data": {
      "text/plain": [
       "'-none-'"
      ]
     },
     "execution_count": 29,
     "metadata": {},
     "output_type": "execute_result"
    }
   ],
   "source": [
    "get_text(a.frame.urn[1])"
   ]
  },
  {
   "cell_type": "code",
   "execution_count": null,
   "id": "a39771cd-f9cd-49bd-8e48-c997f2d77e00",
   "metadata": {},
   "outputs": [],
   "source": []
  }
 ],
 "metadata": {
  "kernelspec": {
   "display_name": "Python 3 (ipykernel)",
   "language": "python",
   "name": "python3"
  },
  "language_info": {
   "codemirror_mode": {
    "name": "ipython",
    "version": 3
   },
   "file_extension": ".py",
   "mimetype": "text/x-python",
   "name": "python",
   "nbconvert_exporter": "python",
   "pygments_lexer": "ipython3",
   "version": "3.9.13"
  }
 },
 "nbformat": 4,
 "nbformat_minor": 5
}
